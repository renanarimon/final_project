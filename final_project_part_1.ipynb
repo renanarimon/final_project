{
 "cells": [
  {
   "cell_type": "markdown",
   "metadata": {},
   "source": [
    "## Final Project - part 1 - Renana Rimon"
   ]
  },
  {
   "cell_type": "markdown",
   "metadata": {},
   "source": [
    "**Q1 - a**\n",
    "\n",
    "A = same\n",
    "\n",
    "B = twin\n",
    "\n",
    "$p(A/B) = \\frac {P(B/A) * p(A)}{P(B)} $\n",
    "\n",
    "$ P(twin/same) = 1$\n",
    "\n",
    "$ p(same) = \\frac {1}{300}$\n",
    "\n",
    "$ p(twin) = \\frac {1}{300} + \\frac {1}{125} = \\frac {17}{1500}$\n",
    "\n",
    "$p(same/twin) = \\frac {1 * \\frac {1}{300}}{\\frac {17}{1500}} = \\frac {5}{17} = 0.294$"
   ]
  },
  {
   "cell_type": "markdown",
   "metadata": {},
   "source": [
    "**Q1 - b**\n",
    "\n",
    "A = bowl 1\n",
    "\n",
    "B = chocolate\n",
    "\n",
    "$p(A/B) = \\frac {P(B/A) * p(A)}{P(B)} $\n",
    "\n",
    "$ P(chocolate/bowl 1) = \\frac {3}{4}$\n",
    "\n",
    "$ p(bowl 1) = \\frac {1}{2}$\n",
    "\n",
    "$ p(chocolate) = \\frac {1}{2} * \\frac {3}{4} + \\frac {1}{2} * \\frac {1}{2} = \\frac {5}{8}$\n",
    "\n",
    "$p(bowl 1/chocolate) = \\frac{\\frac {1}{2} * \\frac {3}{4}}{\\frac {5}{8}} = \\frac {3}{5}$ "
   ]
  },
  {
   "cell_type": "markdown",
   "metadata": {},
   "source": [
    "**Q2**\n",
    "\n",
    "A = 1994\n",
    "\n",
    "B = yellow\n",
    "\n",
    "$p(A/B) = \\frac {P(B/A) * p(A)}{P(B)} $\n",
    "\n",
    "$ P(yellow/1994) = \\frac {2}{10}$\n",
    "\n",
    "$ p(1994) = \\frac {1}{2}$\n",
    "\n",
    "$ p(yellow) = \\frac {1}{2} * \\frac {2}{10} + \\frac {1}{2} * \\frac {14}{100} = \\frac {17}{100}$\n",
    "\n",
    "$p(1994/yellow) = \\frac{\\frac {2}{10} * \\frac {1}{2}}{\\frac {17}{100}} = \\frac {10}{17}$ "
   ]
  },
  {
   "cell_type": "markdown",
   "metadata": {},
   "source": [
    "**Q3 - a**\n",
    "\n",
    "A = sick\n",
    "\n",
    "B = pos\n",
    "\n",
    "$p(A/B) = \\frac {P(B/A) * p(A)}{P(B)} $\n",
    "\n",
    "$ P(pos/sick) = 1$\n",
    "\n",
    "$ p(sick) = \\frac {1}{10,000}$\n",
    "\n",
    "$ p(pos) = \\frac {1}{10,000} * 1 + \\frac {9,999}{10,000} * \\frac {1}{100} = 0.01009$\n",
    "\n",
    "$p(sick/pos) = \\frac{1 * \\frac {1}{10,000}}{0.01009} = 0.0099$ "
   ]
  },
  {
   "cell_type": "markdown",
   "metadata": {},
   "source": [
    "**Q3 - b**\n",
    "\n",
    "A = sick\n",
    "\n",
    "B = pos\n",
    "\n",
    "$p(A/B) = \\frac {P(B/A) * p(A)}{P(B)} $\n",
    "\n",
    "$ P(pos/sick) = 1$\n",
    "\n",
    "$ p(sick) = \\frac {1}{200}$\n",
    "\n",
    "$ p(pos) = \\frac {1}{200} * 1 + \\frac {199}{200} * \\frac {1}{100} = 0.01495$\n",
    "\n",
    "$p(sick/pos) = \\frac{1 * \\frac {1}{200}}{0.01495} = 0.344$ "
   ]
  },
  {
   "cell_type": "markdown",
   "metadata": {},
   "source": [
    "### Random Variables\n",
    "\n",
    "**Q1**\n",
    "\n",
    "$ p(x=6) = \\frac{1}{3}$\n",
    "\n",
    "$ p(x=-3) = \\frac{2}{3}$\n",
    "\n",
    "$ E(x) = 6*\\frac{1}{3} + (-3*\\frac{2}{3}) = 0$"
   ]
  },
  {
   "cell_type": "markdown",
   "metadata": {},
   "source": [
    "**Q2**\n",
    "\n",
    "$ p(x=5) = \\frac{15}{25}$\n",
    "\n",
    "$ p(x=0) = \\frac{4}{25}$\n",
    "\n",
    "$ p(x=-6) = \\frac{6}{25}$\n",
    "\n",
    "$ E(x) = 5*\\frac{15}{25} + 0*\\frac{4}{25} + (-6*\\frac{6}{25}) = 1.56$"
   ]
  },
  {
   "cell_type": "markdown",
   "metadata": {},
   "source": [
    "**Q3**\n",
    "\n",
    "employees = 200\n",
    "\n",
    "male = 0.4\n",
    "\n",
    "selected = 8\n",
    "\n",
    "mean = 8*0.4 = 3.2\n",
    "\n",
    "$std = \\sqrt{\\frac{x^2}{n} - \\overline{x}^2}$\n",
    "\n",
    "x = male = 80\n",
    "\n",
    "n = employees = 200\n",
    "\n",
    "$\\overline{x} = mean = 3.2$\n",
    "\n",
    "$std = \\sqrt{\\frac{80^2}{200} - 3.2^2} = \\sqrt{20} = 4.47 $"
   ]
  },
  {
   "cell_type": "markdown",
   "metadata": {},
   "source": [
    "**Q4**\n",
    "\n",
    "mean = 26<br>\n",
    "std = 2\n",
    "\n",
    "$p( \\frac {26 - mean}{std} < z < \\frac {30 - mean}{std})$\n",
    "\n",
    "$p(26<x<30) = p( \\frac {26 - 26}{2} < z < \\frac {30 - 26}{2}) = p(0 < z < 2)$\n",
    "\n",
    "**according to Z-score table:** <br>\n",
    "0 = 0.5 <br>\n",
    "2 = 0.9772\n",
    "\n",
    "$p(0 < z < 2) = p(0.9772 - 0.5) = 0.4772$\n",
    "\n",
    "x=0.4772"
   ]
  },
  {
   "cell_type": "markdown",
   "metadata": {},
   "source": [
    "**Q5**\n",
    "\n",
    "right triangle area = $\\frac{2 * 0.4}{2} = 0.4$\n",
    "\n",
    "$p(x>3) = 0.4$"
   ]
  },
  {
   "cell_type": "markdown",
   "metadata": {},
   "source": [
    "**Q6**\n",
    "\n",
    "employees = 500\n",
    "\n",
    "have children = 0.6\n",
    "\n",
    "selected = 4\n",
    "\n",
    "p(3/4 have children) = $(\\frac{3}{5}*\\frac{299}{499}*\\frac{298}{498}*\\frac{200}{497}) + (\\frac{3}{5}*\\frac{299}{499}*\\frac{200}{498}*\\frac{298}{497}) + (\\frac{3}{5}*\\frac{200}{499}*\\frac{299}{498}*\\frac{298}{497}) + (\\frac{2}{5}*\\frac{300}{499}*\\frac{299}{498}*\\frac{298}{497}) = 0.346$\n"
   ]
  },
  {
   "cell_type": "markdown",
   "metadata": {},
   "source": [
    "**Q7**\n",
    "\n",
    "$ p(x=-10) = 0.1$\n",
    "\n",
    "$ p(x=-5) = 0.35$\n",
    "\n",
    "$ p(x=0) = 0.1$\n",
    "\n",
    "$ p(x=5) = 0.35$\n",
    "\n",
    "$ p(x=10) = 0.1$\n",
    "\n",
    "$ E(x) = (-10*0.1) + (-5*0.35) + (0*0.1) + (5*0.35) + (10*0.1) = 0$"
   ]
  },
  {
   "cell_type": "code",
   "execution_count": null,
   "metadata": {},
   "outputs": [],
   "source": []
  }
 ],
 "metadata": {
  "kernelspec": {
   "display_name": "Python 3",
   "language": "python",
   "name": "python3"
  },
  "language_info": {
   "codemirror_mode": {
    "name": "ipython",
    "version": 3
   },
   "file_extension": ".py",
   "mimetype": "text/x-python",
   "name": "python",
   "nbconvert_exporter": "python",
   "pygments_lexer": "ipython3",
   "version": "3.8.3"
  }
 },
 "nbformat": 4,
 "nbformat_minor": 4
}
